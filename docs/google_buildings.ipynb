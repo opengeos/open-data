{
 "cells": [
  {
   "cell_type": "code",
   "execution_count": null,
   "metadata": {},
   "outputs": [],
   "source": [
    "def google_buildings_csv_to_vector(filename, output=None, **kwargs):\n",
    "    \"\"\"\n",
    "    Convert a CSV file containing Google Buildings data to a GeoJSON vector file.\n",
    "\n",
    "    Args:\n",
    "        filename (str): The path to the input CSV file.\n",
    "        output (str, optional): The path to the output GeoJSON file. If not provided, the output file will have the same\n",
    "            name as the input file with the extension changed to '.geojson'.\n",
    "        **kwargs: Additional keyword arguments that are passed to the `to_file` method of the GeoDataFrame.\n",
    "\n",
    "    Returns:\n",
    "        None\n",
    "    \"\"\"\n",
    "    import os\n",
    "    import pandas as pd\n",
    "    import geopandas as gpd\n",
    "    from shapely import wkt\n",
    "\n",
    "    df = pd.read_csv(filename)\n",
    "\n",
    "    # Create a geometry column from the \"geometry\" column in the DataFrame\n",
    "    df[\"geometry\"] = df[\"geometry\"].apply(wkt.loads)\n",
    "\n",
    "    # Convert the pandas DataFrame to a GeoDataFrame\n",
    "    gdf = gpd.GeoDataFrame(df, geometry=\"geometry\")\n",
    "    gdf.crs = \"EPSG:4326\"\n",
    "\n",
    "    if output is None:\n",
    "        output = os.path.splitext(filename)[0] + \".geojson\"\n",
    "\n",
    "    gdf.to_file(output, **kwargs)"
   ]
  },
  {
   "cell_type": "markdown",
   "metadata": {},
   "source": [
    "For example, download the Google buildings footprint of area impacted by flooding in Derna, Libya from https://data.humdata.org/dataset/buildings-footprint-floods-derna-libya"
   ]
  },
  {
   "cell_type": "code",
   "execution_count": null,
   "metadata": {},
   "outputs": [],
   "source": [
    "url = 'https://data.humdata.org/dataset/cf84d369-eaba-410e-8e38-778eeb238f71/resource/b8dcedcc-614f-45c4-8618-d3c89a6c36b6/download/open_buildings_v3_polygons_your_own_wkt_polygon_derna.csv.gz'"
   ]
  },
  {
   "cell_type": "code",
   "execution_count": null,
   "metadata": {},
   "outputs": [],
   "source": [
    "google_buildings_csv_to_vector(url, output='buildings.geojson')"
   ]
  },
  {
   "cell_type": "code",
   "execution_count": null,
   "metadata": {},
   "outputs": [],
   "source": [
    "import leafmap.foliumap as leafmap"
   ]
  },
  {
   "cell_type": "code",
   "execution_count": null,
   "metadata": {},
   "outputs": [],
   "source": [
    "m = leafmap.Map(height='700px')\n",
    "# Add Google satellite basemap\n",
    "m.add_basemap('SATELLITE')\n",
    "# Add post-flood image from Maxar Open Data\n",
    "image = 'https://raw.githubusercontent.com/opengeos/maxar-open-data/master/datasets/Libya-Floods-Sept-2023/10500100363D0900.json'\n",
    "m.add_stac_layer(image, name='Maxar Open Data')\n",
    "# Add Google Buildings\n",
    "m.add_vector('buildings.geojson', layer_name='Google Buildings', zoom_to_layer=True, info_mode='on_click')\n",
    "m"
   ]
  }
 ],
 "metadata": {
  "kernelspec": {
   "display_name": "geo",
   "language": "python",
   "name": "python3"
  },
  "language_info": {
   "codemirror_mode": {
    "name": "ipython",
    "version": 3
   },
   "file_extension": ".py",
   "mimetype": "text/x-python",
   "name": "python",
   "nbconvert_exporter": "python",
   "pygments_lexer": "ipython3",
   "version": "3.11.5"
  },
  "orig_nbformat": 4
 },
 "nbformat": 4,
 "nbformat_minor": 2
}

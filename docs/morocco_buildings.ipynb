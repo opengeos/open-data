{
 "cells": [
  {
   "cell_type": "code",
   "execution_count": null,
   "metadata": {},
   "outputs": [],
   "source": [
    "import leafmap.foliumap as leafmap"
   ]
  },
  {
   "cell_type": "code",
   "execution_count": null,
   "metadata": {},
   "outputs": [],
   "source": [
    "def google_buildings_csv_to_vector(filename, output=None, **kwargs):\n",
    "    \"\"\"\n",
    "    Convert a CSV file containing Google Buildings data to a GeoJSON vector file.\n",
    "\n",
    "    Args:\n",
    "        filename (str): The path to the input CSV file.\n",
    "        output (str, optional): The path to the output GeoJSON file. If not provided, the output file will have the same\n",
    "            name as the input file with the extension changed to '.geojson'.\n",
    "        **kwargs: Additional keyword arguments that are passed to the `to_file` method of the GeoDataFrame.\n",
    "\n",
    "    Returns:\n",
    "        None\n",
    "    \"\"\"\n",
    "    import os\n",
    "    import pandas as pd\n",
    "    import geopandas as gpd\n",
    "    from shapely import wkt\n",
    "\n",
    "    df = pd.read_csv(filename)\n",
    "\n",
    "    # Create a geometry column from the \"geometry\" column in the DataFrame\n",
    "    df[\"geometry\"] = df[\"geometry\"].apply(wkt.loads)\n",
    "\n",
    "    # Convert the pandas DataFrame to a GeoDataFrame\n",
    "    gdf = gpd.GeoDataFrame(df, geometry=\"geometry\")\n",
    "    gdf.crs = \"EPSG:4326\"\n",
    "\n",
    "    if output is None:\n",
    "        output = os.path.splitext(filename)[0] + \".geojson\"\n",
    "\n",
    "    gdf.to_file(output, **kwargs)"
   ]
  },
  {
   "cell_type": "markdown",
   "metadata": {},
   "source": [
    "For example, download the Morocco Buildings Footprint impacted by the earthquake from https://data.humdata.org/dataset/openbuildings_morocco_earthquake_footprint"
   ]
  },
  {
   "cell_type": "code",
   "execution_count": null,
   "metadata": {},
   "outputs": [],
   "source": [
    "url = 'https://data.humdata.org/dataset/c6059279-4521-4b39-8b18-d43aedc012c3/resource/6af2ee44-1807-4fb7-a647-a42fc7ffbff0/download/open_buildings_v3_morocco_epicenter.csv.gz'"
   ]
  },
  {
   "cell_type": "code",
   "execution_count": null,
   "metadata": {},
   "outputs": [],
   "source": [
    "filename = 'open_buildings_v3_morocco_epicenter.csv.gz'"
   ]
  },
  {
   "cell_type": "code",
   "execution_count": null,
   "metadata": {},
   "outputs": [],
   "source": [
    "# leafmap.download_file(url, filename) #1.2 GB"
   ]
  },
  {
   "cell_type": "markdown",
   "metadata": {},
   "source": [
    "The following code cell takes 20-30 minutes to run. Please be patient."
   ]
  },
  {
   "cell_type": "code",
   "execution_count": null,
   "metadata": {},
   "outputs": [],
   "source": [
    "# google_buildings_csv_to_vector(filename, output='buildings.gpkg')"
   ]
  }
 ],
 "metadata": {
  "kernelspec": {
   "display_name": "geo",
   "language": "python",
   "name": "python3"
  },
  "language_info": {
   "codemirror_mode": {
    "name": "ipython",
    "version": 3
   },
   "file_extension": ".py",
   "mimetype": "text/x-python",
   "name": "python",
   "nbconvert_exporter": "python",
   "pygments_lexer": "ipython3",
   "version": "3.11.4"
  },
  "orig_nbformat": 4
 },
 "nbformat": 4,
 "nbformat_minor": 2
}
